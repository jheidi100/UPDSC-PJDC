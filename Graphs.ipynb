{
 "cells": [
  {
   "cell_type": "code",
   "execution_count": 9,
   "metadata": {},
   "outputs": [],
   "source": [
    "import pandas as pd\n",
    "import numpy as np\n",
    "import matplotlib.pyplot as plt"
   ]
  },
  {
   "cell_type": "code",
   "execution_count": 10,
   "metadata": {},
   "outputs": [],
   "source": [
    "df = pd.read_csv(\"Option B with Sentiment and Subjectivity Scores.csv\")"
   ]
  },
  {
   "cell_type": "code",
   "execution_count": 11,
   "metadata": {},
   "outputs": [
    {
     "data": {
      "text/plain": [
       "<bound method NDFrame.describe of        Unnamed: 0                   id                   user_name  \\\n",
       "0               0  1340539111971516416                  Rachel Roh   \n",
       "1               1  1338158543359250433                 Albert Fong   \n",
       "2               2  1337858199140118533                    eli🇱🇹🇪🇺👌   \n",
       "3               3  1337855739918835717               Charles Adler   \n",
       "4               4  1337854064604966912        Citizen News Channel   \n",
       "...           ...                  ...                         ...   \n",
       "40166       40166  1373522034903420929  Stankevicius International   \n",
       "40167       40167  1373517049184587776         Emanuele Capobianco   \n",
       "40168       40168  1373514710033821705                          RT   \n",
       "40169       40169  1373512948417695746             Sunday Observer   \n",
       "40170       40170  1373503451372552197                   M a r t í   \n",
       "\n",
       "                   user_location  \\\n",
       "0      La Crescenta-Montrose, CA   \n",
       "1              San Francisco, CA   \n",
       "2                       Your Bed   \n",
       "3         Vancouver, BC - Canada   \n",
       "4                            NaN   \n",
       "...                          ...   \n",
       "40166            Dublin, Ireland   \n",
       "40167        Geneva, Switzerland   \n",
       "40168                        NaN   \n",
       "40169                  Sri Lanka   \n",
       "40170                     США 🇺🇸   \n",
       "\n",
       "                                        user_description         user_created  \\\n",
       "0      Aggregator of Asian American news; scanning di...  2009-04-08 17:52:46   \n",
       "1      Marketing dude, tech geek, heavy metal & '80s ...  2009-09-21 15:27:30   \n",
       "2                                         heil, hydra 🖐☺  2020-06-25 23:30:28   \n",
       "3      Hosting \"CharlesAdlerTonight\" Global News Radi...  2008-09-10 11:28:53   \n",
       "4      Citizen News Channel bringing you an alternati...  2020-04-23 17:58:42   \n",
       "...                                                  ...                  ...   \n",
       "40166  Professional trading consultant specializing i...  2020-06-30 12:31:42   \n",
       "40167  Director Health & Care, International Federati...  2009-04-13 09:56:49   \n",
       "40168  Freedom over censorship, truth over narrative\\...  2009-08-11 06:12:45   \n",
       "40169  Sri Lanka's oldest and the most circulated wee...  2017-02-07 02:59:59   \n",
       "40170  El meu twitter en català, des dels Estats Unit...  2014-02-09 03:41:26   \n",
       "\n",
       "       user_followers  user_friends  user_favourites  user_verified  ...  \\\n",
       "0                 405          1692             3247          False  ...   \n",
       "1                 834           666              178          False  ...   \n",
       "2                  10            88              155          False  ...   \n",
       "3               49165          3933            21853           True  ...   \n",
       "4                 152           580             1473          False  ...   \n",
       "...               ...           ...              ...            ...  ...   \n",
       "40166              16             3                0          False  ...   \n",
       "40167            3242           824             5665           True  ...   \n",
       "40168         2996352           680             1880           True  ...   \n",
       "40169            6590            75              455          False  ...   \n",
       "40170              61           117               34          False  ...   \n",
       "\n",
       "                                                hashtags  \\\n",
       "0                                     ['PfizerBioNTech']   \n",
       "1                                                    NaN   \n",
       "2      ['coronavirus', 'SputnikV', 'AstraZeneca', 'Pf...   \n",
       "3                                                    NaN   \n",
       "4         ['whereareallthesickpeople', 'PfizerBioNTech']   \n",
       "...                                                  ...   \n",
       "40166  ['NitrileGloves', 'FaceMasks', 'Vaccines', 'Sp...   \n",
       "40167                                        ['covid19']   \n",
       "40168                                    ['AstraZeneca']   \n",
       "40169                                                NaN   \n",
       "40170                          ['SanMarino', 'SputnikV']   \n",
       "\n",
       "                     source retweets favorites  is_retweet  \\\n",
       "0       Twitter for Android        0         0       False   \n",
       "1           Twitter Web App        1         1       False   \n",
       "2       Twitter for Android        0         0       False   \n",
       "3           Twitter Web App      446      2129       False   \n",
       "4        Twitter for iPhone        0         0       False   \n",
       "...                     ...      ...       ...         ...   \n",
       "40166                 IFTTT        1         0       False   \n",
       "40167    Twitter for iPhone        0         2       False   \n",
       "40168  Twitter Media Studio       25        49       False   \n",
       "40169             TweetDeck        1         2       False   \n",
       "40170       Twitter Web App        0         0       False   \n",
       "\n",
       "                                            cleaned_text  sentiment_score  \\\n",
       "0      same folks said daikon paste could treat a cyt...         0.000000   \n",
       "1      while the world has been on the wrong side of ...        -0.500000   \n",
       "2      coronavirus sputnikv astrazeneca pfizerbiontec...         0.000000   \n",
       "3      facts are immutable senator even when you re n...        -0.050000   \n",
       "4      explain to me again why we need a vaccine wher...         0.000000   \n",
       "...                                                  ...              ...   \n",
       "40166  selling nitrilegloves 1860 facemasks vaccines ...         0.000000   \n",
       "40167  limited vaccine manufacturing capacity is a ma...        -0.002976   \n",
       "40168  trust in astrazeneca jab in europe has been sh...         0.000000   \n",
       "40169  state minister of production supply and regula...         0.000000   \n",
       "40170  european micronation sanmarino begins administ...         0.000000   \n",
       "\n",
       "      sentiment  subjectivity_score    subjectivity  \n",
       "0       Neutral            0.000000         Neutral  \n",
       "1      Negative           -0.500000  Not Subjective  \n",
       "2       Neutral            0.000000         Neutral  \n",
       "3      Negative           -0.050000  Not Subjective  \n",
       "4       Neutral            0.000000         Neutral  \n",
       "...         ...                 ...             ...  \n",
       "40166   Neutral            0.000000         Neutral  \n",
       "40167  Negative           -0.002976  Not Subjective  \n",
       "40168   Neutral            0.000000         Neutral  \n",
       "40169   Neutral            0.000000         Neutral  \n",
       "40170   Neutral            0.000000         Neutral  \n",
       "\n",
       "[40171 rows x 22 columns]>"
      ]
     },
     "execution_count": 11,
     "metadata": {},
     "output_type": "execute_result"
    }
   ],
   "source": [
    "df.describe"
   ]
  },
  {
   "cell_type": "code",
   "execution_count": 22,
   "metadata": {},
   "outputs": [],
   "source": [
    "sentiment_categories = list(df[\"sentiment\"].value_counts().index)\n",
    "sentiment_values = list(df[\"sentiment\"].value_counts())"
   ]
  },
  {
   "cell_type": "code",
   "execution_count": 25,
   "metadata": {},
   "outputs": [],
   "source": [
    "subjectivity_categories = list(df[\"subjectivity\"].value_counts().index)\n",
    "subjectivity_values = list(df[\"subjectivity\"].value_counts())"
   ]
  },
  {
   "cell_type": "code",
   "execution_count": 26,
   "metadata": {},
   "outputs": [
    {
     "data": {
      "image/png": "[encoded data removed]",
      "text/plain": [
       "<Figure size 432x288 with 1 Axes>"
      ]
     },
     "metadata": {
      "needs_background": "light"
     },
     "output_type": "display_data"
    }
   ],
   "source": [
    "plt.bar(sentiment_categories, sentiment_values)\n",
    "plt.show()"
   ]
  },
  {
   "cell_type": "code",
   "execution_count": 27,
   "metadata": {},
   "outputs": [
    {
     "data": {
      "image/png": "[encoded data removed]",
      "text/plain": [
       "<Figure size 432x288 with 1 Axes>"
      ]
     },
     "metadata": {
      "needs_background": "light"
     },
     "output_type": "display_data"
    }
   ],
   "source": [
    "plt.bar(subjectivity_categories, subjectivity_values)\n",
    "plt.show()"
   ]
  },
  {
   "cell_type": "markdown",
   "metadata": {},
   "source": [
    "Things to look into: \n",
    "- subjectivity and polarity  "
   ]
  }
 ],
 "metadata": {
  "kernelspec": {
   "display_name": "Python 3",
   "language": "python",
   "name": "python3"
  },
  "language_info": {
   "codemirror_mode": {
    "name": "ipython",
    "version": 3
   },
   "file_extension": ".py",
   "mimetype": "text/x-python",
   "name": "python",
   "nbconvert_exporter": "python",
   "pygments_lexer": "ipython3",
   "version": "3.7.4"
  }
 },
 "nbformat": 4,
 "nbformat_minor": 2
}
